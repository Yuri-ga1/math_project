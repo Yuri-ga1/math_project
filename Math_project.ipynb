{
  "nbformat": 4,
  "nbformat_minor": 0,
  "metadata": {
    "colab": {
      "provenance": [],
      "authorship_tag": "ABX9TyO/QhBds58ow3LjP/qDr7TH"
    },
    "kernelspec": {
      "name": "python3",
      "display_name": "Python 3"
    },
    "language_info": {
      "name": "python"
    }
  },
  "cells": [
    {
      "cell_type": "code",
      "source": [
        "# @title import\n",
        "!pip install pulp\n",
        "import pulp as pl"
      ],
      "metadata": {
        "id": "P94CuWKnnh02",
        "cellView": "form"
      },
      "execution_count": null,
      "outputs": []
    },
    {
      "cell_type": "code",
      "source": [
        "# @title Данные\n",
        "q = [70, 60, 50]  # цена за баррель бензина\n",
        "p = [45, 35, 25]  # цена за баррель нефти\n",
        "d = [3000, 10000, 500]  # потребность в бензине\n",
        "c = [5000, 5000, 5000]  # закупленное количество баррелей нефти\n",
        "\n",
        "O = [12, 6, 8]  # октановое число в сырой нефти\n",
        "o = [10, 8, 6]  # октановое число в бензине\n",
        "S = [0.005, 0.02, 0.03]  # количество серы в сырой нефти\n",
        "s = [0.01, 0.02, 0.01]  # количество серы в бензине\n",
        "C = 14000 # мощность предприятия\n",
        "b = 4  # стоимость производства барреля бензина\n",
        "delta = 10  # прирост потребности в бензине на каждый доллар, вложенный в рекламу"
      ],
      "metadata": {
        "cellView": "form",
        "id": "gBMixfAqudy2"
      },
      "execution_count": null,
      "outputs": []
    },
    {
      "cell_type": "code",
      "source": [
        "# @title Переменные\n",
        "\n",
        "problem = pl.LpProblem(\"Gasoline_production\", pl.LpMaximize)\n",
        "\n",
        "# Переменные решения\n",
        "x = [[pl.LpVariable(f\"x{i}{j}\", lowBound=0) for j in range(len(o))] for i in range(len(c))]\n",
        "g = [pl.LpVariable(f\"g{j}\", lowBound=0) for j in range(len(o))]\n",
        "a = [pl.LpVariable(f\"a{j}\", lowBound=0) for j in range(len(o))]"
      ],
      "metadata": {
        "cellView": "form",
        "id": "vRXNJa29_FS5"
      },
      "execution_count": null,
      "outputs": []
    },
    {
      "cell_type": "code",
      "source": [
        "# @title Целевая функция\n",
        "objective = -pl.lpSum([p[i] * c[i] for i in range(len(c))]) + pl.lpSum([q[j] * g[j] for j in range(len(d))]) - pl.lpSum([a[j] for j in range(len(d))]) - b * pl.lpSum([g[j] for j in range(len(d))])\n",
        "problem += objective"
      ],
      "metadata": {
        "cellView": "form",
        "id": "BBLpChud_LdV"
      },
      "execution_count": null,
      "outputs": []
    },
    {
      "cell_type": "code",
      "source": [
        "# @title Ограничения\n",
        "for i in range(len(c)):\n",
        "    problem += pl.lpSum([x[i][j] for j in range(len(o))]) <= c[i]\n",
        "\n",
        "for j in range(len(o)):\n",
        "    problem += pl.lpSum([x[i][j] for i in range(len(c))]) == g[j]\n",
        "    problem += g[j] == d[j] + delta * a[j]\n",
        "    problem += pl.lpSum([S[i] * x[i][j] for i in range(len(c))]) <= s[j] * pl.lpSum([x[i][j] for i in range(len(c))])\n",
        "    problem += pl.lpSum([O[i] * x[i][j] for i in range(len(c))]) >= o[j] * pl.lpSum([x[i][j] for i in range(len(c))])\n",
        "\n",
        "problem += pl.lpSum(g) <= C"
      ],
      "metadata": {
        "cellView": "form",
        "id": "TfPQhH4B_SPY"
      },
      "execution_count": null,
      "outputs": []
    },
    {
      "cell_type": "code",
      "source": [
        "# @title Решение\n",
        "\n",
        "problem.solve()\n",
        "\n",
        "print(\"Оптимальное решение:\")\n",
        "for i in range(len(c)):\n",
        "  print(f'Бензин типа {i+1}:')\n",
        "  for j in range(len(o)):\n",
        "      print(f\"\\tНефть типа {j}:\", pl.value(x[j][i]))\n",
        "  print(f\"\\tКолличество баррелей {i+1} типа бензина:\", pl.value(g[i]))\n",
        "  print(f\"\\tКолличество денег потраченных на рекламу {i+1} типа бензина:\", pl.value(a[i]), end=\"\\n\\n\")\n",
        "print(\"Прибыль:\", pl.value(problem.objective))"
      ],
      "metadata": {
        "id": "8plBHo1oMmZ0",
        "cellView": "form"
      },
      "execution_count": null,
      "outputs": []
    }
  ]
}